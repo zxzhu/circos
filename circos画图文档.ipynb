{
 "cells": [
  {
   "cell_type": "markdown",
   "metadata": {},
   "source": [
    "## circos 画图文档\n",
    "\n",
    "这次circos的图主要画了散点图和links。我会比较详细的介绍这个图从无到有的全过程，希望可以把我对circos的框架理解呈现出来。ps:我只用了最基础的语法，如果要画更详细的图，可以到官网看教程。\n",
    "\n",
    "### 基本命令行\n",
    "\n",
    "circos是利用perl来画图，基本的命令行：\n",
    "\n",
    "circos -conf circos.conf -outputdir ./\n",
    "\n",
    "可以看出circos最主要的是circos.conf文件，也就是主配置文件。当然名字随意取。在circos.conf里面是一个主要的框架，即：给出通用的配置和每个图的配置文件。通用的配置包括颜色，字体，之类的。circos可以画很多类型的图，包括scatter,histogram,heatmap,links等，每一个类型的图可以写一个配置文件，配置文件用<< include filename\\>\\>包含到主配置文件circos.conf里面。再加上circos自带的通用配置文件就可以画出理想的图啦。接下来我就介绍这次的图里面的各个部分了。\n",
    "### ideogram和ticks.conf\n",
    "\n",
    "首先是ideogram，如下图figure1，可以看到画出了19条染色体，这里染色体可以看做坐标轴，上面的刻度由ticks.conf文件设置。\n",
    "![fig1](./circos_fig1.png)\n",
    "fig1\n",
    "\n",
    "看一下circos.conf文件：\n",
    "![ideogram.conf](./circos_conf.JPG)"
   ]
  },
  {
   "cell_type": "markdown",
   "metadata": {},
   "source": [
    "两张图对比看，可以选择图的类型，我们选择.png，然后命名为circos_fig.png。首先，给出核型文件karyotype。染色体在图中的位置，顺序以及chromosome_units，即刻度u，这个是设置ticks常用的单位，我们设置为1Mb。后面是包含配置文件，可以理解为python中的import。最后设置着丝粒区域高亮。  \n",
    "\n",
    "可以看出，circos画图需要**数据文件和配置文件**，ideogram的数据文件是核型文件，配置文件是ideogram.conf和ticks.conf，最后再加上通用配置。着丝粒高亮同理，这里注意，circos语法中区块为<>...</>，类似于HTML。\n",
    "再看ideogram.conf：\n",
    "![ideogram](./ideogram_circos_conf.JPG)"
   ]
  },
  {
   "cell_type": "markdown",
   "metadata": {
    "collapsed": true
   },
   "source": [
    "主要配置染色体的位置，分布，以及染色体名称的位置，颜色，大小等，具体不介绍啦，可以调整参数看看变化。\n",
    "接下来是ticks.conf：\n",
    "![ticks](./ticks_circos_conf.JPG)"
   ]
  },
  {
   "cell_type": "markdown",
   "metadata": {},
   "source": [
    "**注意语法，类似HTML。**\n",
    "\n",
    "建议修改circos自带example或者tutorial里面的ticks.conf文件作为自己的文件，这里设置最小刻度是1u，就是前面的1Mb，然后还设置了10u的刻度，对比图看看就明白啦。"
   ]
  },
  {
   "cell_type": "markdown",
   "metadata": {},
   "source": [
    "### scatter\n",
    "\n",
    "我们这张图画了八个scatter。我就介绍一个。首先看添加scatter后的效果：\n",
    "![circos_conf](./circos_fig.png)\n",
    "再看scatter的语法：\n",
    "![scatter](./scatter_circos.conf.JPG)"
   ]
  },
  {
   "cell_type": "markdown",
   "metadata": {},
   "source": [
    "**注意语法，我截图没有截完。**\n",
    "\n",
    "第一个scatter的位置是0.90r至0.96r，第二个scatter的位置是0.80r至0.86r，其他的scatter以此类推。每个scatter我用的不同的颜色。\n",
    "数据文件看一下：\n",
    "\n",
    "![data](data_circos.JPG)"
   ]
  },
  {
   "cell_type": "markdown",
   "metadata": {},
   "source": [
    "这几列的含义：染色体名，起始位置，终止位置，大小（高度）。这里我们的位置就一个点，所以起始和终止位置相同。"
   ]
  }
 ],
 "metadata": {
  "kernelspec": {
   "display_name": "Python 3",
   "language": "python",
   "name": "python3"
  },
  "language_info": {
   "codemirror_mode": {
    "name": "ipython",
    "version": 3
   },
   "file_extension": ".py",
   "mimetype": "text/x-python",
   "name": "python",
   "nbconvert_exporter": "python",
   "pygments_lexer": "ipython3",
   "version": "3.6.1"
  }
 },
 "nbformat": 4,
 "nbformat_minor": 2
}
